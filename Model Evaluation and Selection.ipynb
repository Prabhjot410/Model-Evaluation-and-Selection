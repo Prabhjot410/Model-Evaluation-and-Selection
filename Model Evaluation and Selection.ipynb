{
 "cells": [
  {
   "cell_type": "code",
   "execution_count": 18,
   "metadata": {},
   "outputs": [],
   "source": [
    "import numpy as np\n",
    "from scipy.stats import t\n",
    "import pandas as pd"
   ]
  },
  {
   "cell_type": "markdown",
   "metadata": {},
   "source": [
    "Suppose you have used your favourite concept learning algorithm to learn a hypothesis h1 from some training\n",
    "data. You are interested in knowing the accuracy that the hypothesis can be expected to achieve on the\n",
    "underlying population. To assess this accuracy you apply the hypothesis to a test data set consisting of 45\n",
    "instances that you had held back from the training data set. The error rate observed on the training data is\n",
    "6.67%. Calculate the 95% confidence interval for the true error?"
   ]
  },
  {
   "cell_type": "code",
   "execution_count": 19,
   "metadata": {},
   "outputs": [
    {
     "name": "stdout",
     "output_type": "stream",
     "text": [
      "(-0.006199301044660224+0j) (0.13959930104466023+0j)\n"
     ]
    }
   ],
   "source": [
    "from cmath import sqrt\n",
    "\n",
    "\n",
    "n = 45\n",
    "err_rate = 6.67/100\n",
    "\n",
    "std_dev = sqrt((err_rate*(1-err_rate))/n)\n",
    "\n",
    "#95 confidence interval find :\n",
    "\n",
    "range1 = err_rate - 1.96*std_dev\n",
    "range2 = err_rate + 1.96*std_dev\n",
    "\n",
    "print(range1,range2)\n",
    "\n"
   ]
  },
  {
   "cell_type": "markdown",
   "metadata": {},
   "source": [
    "You now decide to change a few parameters within the learning algorithm used in Question 7.1 and learn two\n",
    "more hypotheses, h2 and h3. The error rates for these new hypotheses observed on the test data set of 45\n",
    "instances were 8.89% and 13.3%, respectively. To what degree can you be confident that h2 will perform\n",
    "worse than h1 on the underlying population. Is you cofidence higher or lower for h3 performing worse than\n",
    "h1 on the underlying population?"
   ]
  },
  {
   "cell_type": "code",
   "execution_count": 20,
   "metadata": {},
   "outputs": [
    {
     "name": "stdout",
     "output_type": "stream",
     "text": [
      "std deviation :  (0.0660484317250102+0j)\n",
      "mean :  0.0441\n",
      "(-0.0549726475875153+0j) (0.1431726475875153+0j)\n",
      "1.5 std dev correspond to 87 percentage and hence the percentage mass of the probability distribution > 0 is 87\n",
      "Accept the hypothesis with 87 percentage confidence that h2 will perform worse than h1 on the udelying population\n"
     ]
    }
   ],
   "source": [
    "err_rate_1 = 8.89/100\n",
    "err_rate_2 = 13.3/100\n",
    "\n",
    "mean = err_rate_2 - err_rate_1\n",
    "err_for_h2 = (err_rate_1*(1-err_rate_1))/n\n",
    "err_for_h3 = (err_rate_2*(1-err_rate_2))/n\n",
    "\n",
    "sigma = sqrt(err_for_h2+err_for_h3)\n",
    "print(\"std deviation : \",sigma)\n",
    "print(\"mean : \",mean)\n",
    "\n",
    "confidence_interval = mean + 1.5*sigma\n",
    "confidence_interval1 = mean - 1.5*sigma\n",
    "\n",
    "print(confidence_interval1,confidence_interval)\n",
    "print(\"1.5 std dev correspond to 87 percentage and hence the percentage mass of the probability distribution > 0 is 87\")\n",
    "print(\"Accept the hypothesis with 87 percentage confidence that h2 will perform worse than h1 on the udelying population\")"
   ]
  },
  {
   "cell_type": "markdown",
   "metadata": {},
   "source": [
    "You now decide to try out a decision tree induction algorithm to see if it can out perform your favourite\n",
    "concept learning algorithm. You decide to use 10 fold cross validation. The error rates for the 10 corss\n",
    "validation folds for the two algorithms are shown in Table 1.\n",
    "With what confidence level can you assume that your favourite concept description algorithm will outperform the decision tree induction algorithm in this domain?\n"
   ]
  },
  {
   "cell_type": "code",
   "execution_count": null,
   "metadata": {},
   "outputs": [],
   "source": [
    "data = {\n",
    "  \"CV Fold\" : [1,2,3,4,5,6,7,8,9,10],\n",
    "  \"favourite algo\": [8.89,9.52,8.13,9.48,10.12,10.23,8.56,9.12,9.23,9.11],\n",
    "  \"DT Induction\": [9.30,9.48,9.12,9.13,9.98,11.01,9.02,8.56,9.23,9.08]\n",
    "}\n",
    "#load data into a DataFrame object:\n",
    "df = pd.DataFrame(data)\n",
    "\n",
    "print(df)"
   ]
  },
  {
   "cell_type": "code",
   "execution_count": 26,
   "metadata": {},
   "outputs": [
    {
     "name": "stdout",
     "output_type": "stream",
     "text": [
      "   CV Fold  favourite algo  DT Induction  error\n",
      "0        1            8.89          9.30  -0.41\n",
      "1        2            9.52          9.48   0.04\n",
      "2        3            8.13          9.12  -0.99\n",
      "3        4            9.48          9.13   0.35\n",
      "4        5           10.12          9.98   0.14\n",
      "5        6           10.23         11.01  -0.78\n",
      "6        7            8.56          9.02  -0.46\n",
      "7        8            9.12          8.56   0.56\n",
      "8        9            9.23          9.23   0.00\n",
      "9       10            9.11          9.08   0.03\n"
     ]
    }
   ],
   "source": [
    "df[\"error\"] = df[\"favourite algo\"] - df[\"DT Induction\"]\n",
    "print(df)"
   ]
  },
  {
   "cell_type": "code",
   "execution_count": 51,
   "metadata": {},
   "outputs": [
    {
     "name": "stdout",
     "output_type": "stream",
     "text": [
      "-0.15\n"
     ]
    }
   ],
   "source": [
    "mean1 = df[\"error\"].mean()\n",
    "print(\"%.2f\" %mean1)"
   ]
  },
  {
   "cell_type": "code",
   "execution_count": 53,
   "metadata": {},
   "outputs": [
    {
     "data": {
      "text/plain": [
       "2.195359999999993"
      ]
     },
     "execution_count": 53,
     "metadata": {},
     "output_type": "execute_result"
    }
   ],
   "source": [
    "sum1 = sum((df[\"error\"]-mean1)**2)\n",
    "sum1"
   ]
  },
  {
   "cell_type": "code",
   "execution_count": 57,
   "metadata": {},
   "outputs": [
    {
     "data": {
      "text/plain": [
       "(0.15618222974746138+0j)"
      ]
     },
     "execution_count": 57,
     "metadata": {},
     "output_type": "execute_result"
    }
   ],
   "source": [
    "k = 10\n",
    "std_dev_for_k_Cross_fold= sqrt(sum1/(k*(k-1)))\n",
    "std_dev_for_k_Cross_fold"
   ]
  },
  {
   "cell_type": "code",
   "execution_count": 59,
   "metadata": {},
   "outputs": [
    {
     "name": "stdout",
     "output_type": "stream",
     "text": [
      "(-0.5049718392292628+0j) (0.20097183922926254+0j)\n"
     ]
    }
   ],
   "source": [
    "#for confidence interval 95\n",
    "range_of_CI1 = mean1-2.26*std_dev_for_k_Cross_fold\n",
    "range_of_CI2 = mean1+2.26*std_dev_for_k_Cross_fold\n",
    "print(range_of_CI1,range_of_CI2)"
   ]
  },
  {
   "cell_type": "code",
   "execution_count": 60,
   "metadata": {},
   "outputs": [
    {
     "name": "stdout",
     "output_type": "stream",
     "text": [
      "(-0.6595922466792496+0j) (0.3555922466792494+0j)\n"
     ]
    }
   ],
   "source": [
    "#for confidence interval 99\n",
    "range_of_CI3 = mean1-3.25*std_dev_for_k_Cross_fold\n",
    "range_of_CI4 = mean1+3.25*std_dev_for_k_Cross_fold\n",
    "print(range_of_CI3,range_of_CI4)"
   ]
  },
  {
   "cell_type": "markdown",
   "metadata": {},
   "source": [
    "You decide to further investigate the errors in classification generated by the hypotheses generated in Questions 7.1 and 7.2. The confusion matrices for the three hypotheses is shown below:\n",
    "Using the Euclidean distance on an ROC plot from the “perfect classifier” as the metric, choose the best\n",
    "classifier\n",
    "• assuming equal costs for false positives and false negatives\n",
    "• assuming that false positives cost 4 times as much as false negatives"
   ]
  },
  {
   "cell_type": "code",
   "execution_count": null,
   "metadata": {},
   "outputs": [],
   "source": []
  }
 ],
 "metadata": {
  "kernelspec": {
   "display_name": "Python 3.10.2 64-bit",
   "language": "python",
   "name": "python3"
  },
  "language_info": {
   "codemirror_mode": {
    "name": "ipython",
    "version": 3
   },
   "file_extension": ".py",
   "mimetype": "text/x-python",
   "name": "python",
   "nbconvert_exporter": "python",
   "pygments_lexer": "ipython3",
   "version": "3.10.2"
  },
  "orig_nbformat": 4,
  "vscode": {
   "interpreter": {
    "hash": "90af62e2678bea3d5183ba7b714be6d375115a63c20bfc269abd8ebe5c21c627"
   }
  }
 },
 "nbformat": 4,
 "nbformat_minor": 2
}
